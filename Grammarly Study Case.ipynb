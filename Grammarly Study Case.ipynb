{
 "cells": [
  {
   "cell_type": "markdown",
   "metadata": {},
   "source": [
    "# Grammarly Case Study"
   ]
  },
  {
   "cell_type": "markdown",
   "metadata": {},
   "source": [
    "First of all, we will install one library to make sure we can use sql within the jupyter notebook and make sure we can import the dataset for this study."
   ]
  },
  {
   "cell_type": "markdown",
   "metadata": {},
   "source": [
    "## Downloading the Data and Importing Libraries"
   ]
  },
  {
   "cell_type": "code",
   "execution_count": 72,
   "metadata": {},
   "outputs": [],
   "source": [
    "import os\n",
    "\n",
    "import numpy as np\n",
    "import matplotlib.pyplot as plt\n",
    "import pandas as pd\n",
    "import sqlite3\n",
    "from datetime import datetime"
   ]
  },
  {
   "cell_type": "code",
   "execution_count": 55,
   "metadata": {},
   "outputs": [],
   "source": [
    "### The df will enable us to use python incase we need it\n",
    "df = pd.read_csv(os.path.join('datasets', 'dataset_gbAnalyst_dataExercise.csv'))\n",
    "\n",
    "### This will enable us to use sql syntax and create the respective database.\n",
    "conn = sqlite3.connect('Grammarly.db')\n",
    "c = conn.cursor()\n",
    "\n",
    "# Create table - LEADS\n",
    "c.execute('''CREATE TABLE LEADS\n",
    "             ([generated_id] INTEGER PRIMARY KEY,\n",
    "              [id] integer, \n",
    "              [lead_status] text, \n",
    "              [creation_date] date,\n",
    "              [status_change] date,\n",
    "              [lead_source] text,\n",
    "              [deal_size] integer,\n",
    "              [company_size] text,\n",
    "              [company_industry] text)''')\n",
    "\n",
    "# Insert the values from the csv file into the table 'LEADS'\n",
    "df.to_sql('LEADS', conn, if_exists='append', index = False) "
   ]
  },
  {
   "cell_type": "markdown",
   "metadata": {},
   "source": [
    "Let's check if we were successful on creating the SQL Database"
   ]
  },
  {
   "cell_type": "code",
   "execution_count": 56,
   "metadata": {},
   "outputs": [
    {
     "data": {
      "text/html": [
       "<div>\n",
       "<style scoped>\n",
       "    .dataframe tbody tr th:only-of-type {\n",
       "        vertical-align: middle;\n",
       "    }\n",
       "\n",
       "    .dataframe tbody tr th {\n",
       "        vertical-align: top;\n",
       "    }\n",
       "\n",
       "    .dataframe thead th {\n",
       "        text-align: right;\n",
       "    }\n",
       "</style>\n",
       "<table border=\"1\" class=\"dataframe\">\n",
       "  <thead>\n",
       "    <tr style=\"text-align: right;\">\n",
       "      <th></th>\n",
       "      <th>generated_id</th>\n",
       "      <th>id</th>\n",
       "      <th>lead_status</th>\n",
       "      <th>creation_date</th>\n",
       "      <th>status_change</th>\n",
       "      <th>lead_source</th>\n",
       "      <th>deal_size</th>\n",
       "      <th>company_size</th>\n",
       "      <th>company_industry</th>\n",
       "    </tr>\n",
       "  </thead>\n",
       "  <tbody>\n",
       "    <tr>\n",
       "      <th>0</th>\n",
       "      <td>1</td>\n",
       "      <td>25691639</td>\n",
       "      <td>qualification</td>\n",
       "      <td>2020-03-30</td>\n",
       "      <td>2020-03-31</td>\n",
       "      <td>paid_ads</td>\n",
       "      <td>112</td>\n",
       "      <td>251-500</td>\n",
       "      <td>Commerce and Shopping|Financial Services|Infor...</td>\n",
       "    </tr>\n",
       "    <tr>\n",
       "      <th>1</th>\n",
       "      <td>2</td>\n",
       "      <td>66519272</td>\n",
       "      <td>rejected</td>\n",
       "      <td>2019-12-24</td>\n",
       "      <td>2019-12-24</td>\n",
       "      <td>paid_ads</td>\n",
       "      <td>428</td>\n",
       "      <td>5001-10000</td>\n",
       "      <td>Data and Analytics|Information Technology|Mobi...</td>\n",
       "    </tr>\n",
       "    <tr>\n",
       "      <th>2</th>\n",
       "      <td>3</td>\n",
       "      <td>102989944</td>\n",
       "      <td>converted</td>\n",
       "      <td>2019-09-14</td>\n",
       "      <td>2020-01-05</td>\n",
       "      <td>paid_ads</td>\n",
       "      <td>87</td>\n",
       "      <td>501-1000</td>\n",
       "      <td>Financial Services</td>\n",
       "    </tr>\n",
       "    <tr>\n",
       "      <th>3</th>\n",
       "      <td>4</td>\n",
       "      <td>244285609</td>\n",
       "      <td>rejected</td>\n",
       "      <td>2020-01-27</td>\n",
       "      <td>2020-01-27</td>\n",
       "      <td>consumer_website</td>\n",
       "      <td>128</td>\n",
       "      <td>251-500</td>\n",
       "      <td>Legal</td>\n",
       "    </tr>\n",
       "    <tr>\n",
       "      <th>4</th>\n",
       "      <td>5</td>\n",
       "      <td>255755011</td>\n",
       "      <td>rejected</td>\n",
       "      <td>2020-03-12</td>\n",
       "      <td>2020-03-12</td>\n",
       "      <td>paid_ads</td>\n",
       "      <td>245</td>\n",
       "      <td>251-500</td>\n",
       "      <td>Legal</td>\n",
       "    </tr>\n",
       "  </tbody>\n",
       "</table>\n",
       "</div>"
      ],
      "text/plain": [
       "   generated_id         id    lead_status creation_date status_change  \\\n",
       "0             1   25691639  qualification    2020-03-30    2020-03-31   \n",
       "1             2   66519272       rejected    2019-12-24    2019-12-24   \n",
       "2             3  102989944      converted    2019-09-14    2020-01-05   \n",
       "3             4  244285609       rejected    2020-01-27    2020-01-27   \n",
       "4             5  255755011       rejected    2020-03-12    2020-03-12   \n",
       "\n",
       "        lead_source  deal_size company_size  \\\n",
       "0          paid_ads        112      251-500   \n",
       "1          paid_ads        428   5001-10000   \n",
       "2          paid_ads         87     501-1000   \n",
       "3  consumer_website        128      251-500   \n",
       "4          paid_ads        245      251-500   \n",
       "\n",
       "                                    company_industry  \n",
       "0  Commerce and Shopping|Financial Services|Infor...  \n",
       "1  Data and Analytics|Information Technology|Mobi...  \n",
       "2                                 Financial Services  \n",
       "3                                              Legal  \n",
       "4                                              Legal  "
      ]
     },
     "execution_count": 56,
     "metadata": {},
     "output_type": "execute_result"
    }
   ],
   "source": [
    "pd.io.sql.read_sql('''\n",
    "    SELECT *\n",
    "    FROM LEADS\n",
    "    LIMIT 5\n",
    "          ''', con = conn)"
   ]
  },
  {
   "cell_type": "markdown",
   "metadata": {},
   "source": [
    "## Performing some simple exploratory analysis on the Leads acquired on 2020"
   ]
  },
  {
   "cell_type": "markdown",
   "metadata": {},
   "source": [
    "Now that we are able to use sql, we will try to understand the type of data we are dealing with and explore some opportunities or problems we might be currently facing."
   ]
  },
  {
   "cell_type": "markdown",
   "metadata": {},
   "source": [
    "### Total Leads"
   ]
  },
  {
   "cell_type": "markdown",
   "metadata": {},
   "source": [
    "Using a quick SQL query, let's first check the number of duplicate ids and then not take them into consideration for this analysis. Since, I'm lacking context on how to handle those anomalies. "
   ]
  },
  {
   "cell_type": "code",
   "execution_count": 60,
   "metadata": {},
   "outputs": [
    {
     "data": {
      "text/html": [
       "<div>\n",
       "<style scoped>\n",
       "    .dataframe tbody tr th:only-of-type {\n",
       "        vertical-align: middle;\n",
       "    }\n",
       "\n",
       "    .dataframe tbody tr th {\n",
       "        vertical-align: top;\n",
       "    }\n",
       "\n",
       "    .dataframe thead th {\n",
       "        text-align: right;\n",
       "    }\n",
       "</style>\n",
       "<table border=\"1\" class=\"dataframe\">\n",
       "  <thead>\n",
       "    <tr style=\"text-align: right;\">\n",
       "      <th></th>\n",
       "      <th>number_of_new_leads</th>\n",
       "    </tr>\n",
       "  </thead>\n",
       "  <tbody>\n",
       "    <tr>\n",
       "      <th>0</th>\n",
       "      <td>45282</td>\n",
       "    </tr>\n",
       "  </tbody>\n",
       "</table>\n",
       "</div>"
      ],
      "text/plain": [
       "   number_of_new_leads\n",
       "0                45282"
      ]
     },
     "execution_count": 60,
     "metadata": {},
     "output_type": "execute_result"
    }
   ],
   "source": [
    "pd.io.sql.read_sql('''\n",
    "    WITH DuplicateIds AS (\n",
    "        SELECT id, count(*) AS number_of_appearance\n",
    "        FROM LEADS\n",
    "        GROUP BY 1 \n",
    "        HAVING count(*) > 1\n",
    "    )\n",
    "    \n",
    "    SELECT count(distinct LEADS.id) AS number_of_new_leads\n",
    "    FROM LEADS\n",
    "    LEFT JOIN DuplicateIds ON LEADS.id = DuplicateIds.id\n",
    "    WHERE creation_date >= date('2020-01-01')\n",
    "      AND DuplicateIds.id IS NULL\n",
    "          ''', con = conn)"
   ]
  },
  {
   "cell_type": "markdown",
   "metadata": {},
   "source": [
    "By removing the duplicates, we see that we have a total of 45,282 new leads in 2020. Let's check the breakdown of those new lead by their current status. I'll be using python for the next bit, to calculate the breakdown."
   ]
  },
  {
   "cell_type": "markdown",
   "metadata": {},
   "source": [
    "### Leads Breakdown by Lead Status "
   ]
  },
  {
   "cell_type": "code",
   "execution_count": 65,
   "metadata": {},
   "outputs": [],
   "source": [
    "year_2020 = datetime.strptime('2020-01-01', '%Y-%m-%d').date()\n",
    "\n",
    "### Changing the data type to datetime to be able to grab only elements from 2020 and removing duplicates.\n",
    "df = df.drop_duplicates(subset=['id'], keep=False)\n",
    "df['creation_date'] = pd.to_datetime(df['creation_date'])\n",
    "df['status_change'] = pd.to_datetime(df['status_change'])\n",
    "df_2020 = df[df['creation_date'].dt.date >= year_2020]"
   ]
  },
  {
   "cell_type": "code",
   "execution_count": 66,
   "metadata": {},
   "outputs": [
    {
     "data": {
      "text/plain": [
       "converted        0.433594\n",
       "rejected         0.392098\n",
       "qualification    0.087607\n",
       "new              0.086701\n",
       "Name: lead_status, dtype: float64"
      ]
     },
     "execution_count": 66,
     "metadata": {},
     "output_type": "execute_result"
    }
   ],
   "source": [
    "df_2020['lead_status'].value_counts() / len(df_2020)"
   ]
  },
  {
   "cell_type": "markdown",
   "metadata": {},
   "source": [
    "At first glance, it is pretty alarming to see that 39% of our new leads in 2020 ended up being rejected. Meanwhile, we have 43% of our new leads being converted. It would be interesting to check if those that were rejected came from leads acquired recently or at the beggining of the year."
   ]
  },
  {
   "cell_type": "markdown",
   "metadata": {},
   "source": [
    "### MoM trend by Lead Status"
   ]
  },
  {
   "cell_type": "code",
   "execution_count": 91,
   "metadata": {},
   "outputs": [
    {
     "data": {
      "text/html": [
       "<div>\n",
       "<style scoped>\n",
       "    .dataframe tbody tr th:only-of-type {\n",
       "        vertical-align: middle;\n",
       "    }\n",
       "\n",
       "    .dataframe tbody tr th {\n",
       "        vertical-align: top;\n",
       "    }\n",
       "\n",
       "    .dataframe thead th {\n",
       "        text-align: right;\n",
       "    }\n",
       "</style>\n",
       "<table border=\"1\" class=\"dataframe\">\n",
       "  <thead>\n",
       "    <tr style=\"text-align: right;\">\n",
       "      <th></th>\n",
       "      <th>month_created</th>\n",
       "      <th>lead_status</th>\n",
       "      <th>number_of_new_leads</th>\n",
       "      <th>previous_month</th>\n",
       "      <th>growth_rate</th>\n",
       "    </tr>\n",
       "  </thead>\n",
       "  <tbody>\n",
       "    <tr>\n",
       "      <th>0</th>\n",
       "      <td>01</td>\n",
       "      <td>converted</td>\n",
       "      <td>4893</td>\n",
       "      <td>NaN</td>\n",
       "      <td>NaN</td>\n",
       "    </tr>\n",
       "    <tr>\n",
       "      <th>1</th>\n",
       "      <td>01</td>\n",
       "      <td>rejected</td>\n",
       "      <td>4387</td>\n",
       "      <td>NaN</td>\n",
       "      <td>NaN</td>\n",
       "    </tr>\n",
       "    <tr>\n",
       "      <th>2</th>\n",
       "      <td>02</td>\n",
       "      <td>converted</td>\n",
       "      <td>4975</td>\n",
       "      <td>4893.0</td>\n",
       "      <td>0.016759</td>\n",
       "    </tr>\n",
       "    <tr>\n",
       "      <th>3</th>\n",
       "      <td>02</td>\n",
       "      <td>rejected</td>\n",
       "      <td>4640</td>\n",
       "      <td>4387.0</td>\n",
       "      <td>0.057670</td>\n",
       "    </tr>\n",
       "    <tr>\n",
       "      <th>4</th>\n",
       "      <td>03</td>\n",
       "      <td>converted</td>\n",
       "      <td>5231</td>\n",
       "      <td>4975.0</td>\n",
       "      <td>0.051457</td>\n",
       "    </tr>\n",
       "    <tr>\n",
       "      <th>5</th>\n",
       "      <td>03</td>\n",
       "      <td>rejected</td>\n",
       "      <td>4628</td>\n",
       "      <td>4640.0</td>\n",
       "      <td>-0.002586</td>\n",
       "    </tr>\n",
       "    <tr>\n",
       "      <th>6</th>\n",
       "      <td>04</td>\n",
       "      <td>converted</td>\n",
       "      <td>4535</td>\n",
       "      <td>5231.0</td>\n",
       "      <td>-0.133053</td>\n",
       "    </tr>\n",
       "    <tr>\n",
       "      <th>7</th>\n",
       "      <td>04</td>\n",
       "      <td>rejected</td>\n",
       "      <td>4100</td>\n",
       "      <td>4628.0</td>\n",
       "      <td>-0.114088</td>\n",
       "    </tr>\n",
       "  </tbody>\n",
       "</table>\n",
       "</div>"
      ],
      "text/plain": [
       "  month_created lead_status  number_of_new_leads  previous_month  growth_rate\n",
       "0            01   converted                 4893             NaN          NaN\n",
       "1            01    rejected                 4387             NaN          NaN\n",
       "2            02   converted                 4975          4893.0     0.016759\n",
       "3            02    rejected                 4640          4387.0     0.057670\n",
       "4            03   converted                 5231          4975.0     0.051457\n",
       "5            03    rejected                 4628          4640.0    -0.002586\n",
       "6            04   converted                 4535          5231.0    -0.133053\n",
       "7            04    rejected                 4100          4628.0    -0.114088"
      ]
     },
     "execution_count": 91,
     "metadata": {},
     "output_type": "execute_result"
    }
   ],
   "source": [
    "month_breakdown = pd.io.sql.read_sql('''\n",
    "    WITH DuplicateIds AS (\n",
    "        SELECT id, count(*) AS number_of_appearance\n",
    "        FROM LEADS\n",
    "        GROUP BY 1 \n",
    "        HAVING count(*) > 1\n",
    "    )\n",
    "\n",
    "    SELECT strftime('%m',creation_date) AS month_created,\n",
    "           lead_status,\n",
    "           count(distinct LEADS.id) AS number_of_new_leads\n",
    "    FROM LEADS\n",
    "    LEFT JOIN DuplicateIds ON LEADS.id = DuplicateIds.id\n",
    "    WHERE creation_date >= date('2020-01-01')\n",
    "      AND DuplicateIds.id IS NULL\n",
    "      AND lead_status IN ('converted', 'rejected')\n",
    "    GROUP BY 1,2\n",
    "          ''', con = conn)\n",
    "### This part is the equivalent of the Lag function in sql, since I'm using sqlite3 in python\n",
    "### i don't believe it is still implemented yet.\n",
    "month_breakdown['previous_month'] = month_breakdown.groupby(['lead_status'])['number_of_new_leads'].shift(periods=1)\n",
    "month_breakdown['growth_rate'] = (month_breakdown['number_of_new_leads'] - month_breakdown['previous_month']) / month_breakdown['previous_month']\n",
    "month_breakdown"
   ]
  },
  {
   "cell_type": "code",
   "execution_count": 95,
   "metadata": {},
   "outputs": [
    {
     "data": {
      "text/plain": [
       "<matplotlib.axes._subplots.AxesSubplot at 0x7fa21242df28>"
      ]
     },
     "execution_count": 95,
     "metadata": {},
     "output_type": "execute_result"
    },
    {
     "data": {
      "image/png": "[encoded data removed]",
      "text/plain": [
       "<Figure size 720x504 with 1 Axes>"
      ]
     },
     "metadata": {
      "needs_background": "light"
     },
     "output_type": "display_data"
    }
   ],
   "source": [
    "month_breakdown.groupby(['month_created', 'lead_status']).sum().unstack().plot(\n",
    "    y='number_of_new_leads',\n",
    "    title='Number of New Leads on a Montly Basis by Lead Status',\n",
    "    kind='bar', \n",
    "    stacked=False,\n",
    "    figsize=(10,7))"
   ]
  },
  {
   "cell_type": "code",
   "execution_count": 109,
   "metadata": {},
   "outputs": [
    {
     "data": {
      "text/html": [
       "<div>\n",
       "<style scoped>\n",
       "    .dataframe tbody tr th:only-of-type {\n",
       "        vertical-align: middle;\n",
       "    }\n",
       "\n",
       "    .dataframe tbody tr th {\n",
       "        vertical-align: top;\n",
       "    }\n",
       "\n",
       "    .dataframe thead th {\n",
       "        text-align: right;\n",
       "    }\n",
       "</style>\n",
       "<table border=\"1\" class=\"dataframe\">\n",
       "  <thead>\n",
       "    <tr style=\"text-align: right;\">\n",
       "      <th></th>\n",
       "      <th>growth_rate</th>\n",
       "    </tr>\n",
       "    <tr>\n",
       "      <th>lead_status</th>\n",
       "      <th></th>\n",
       "    </tr>\n",
       "  </thead>\n",
       "  <tbody>\n",
       "    <tr>\n",
       "      <th>converted</th>\n",
       "      <td>-0.021612</td>\n",
       "    </tr>\n",
       "    <tr>\n",
       "      <th>rejected</th>\n",
       "      <td>-0.019668</td>\n",
       "    </tr>\n",
       "  </tbody>\n",
       "</table>\n",
       "</div>"
      ],
      "text/plain": [
       "             growth_rate\n",
       "lead_status             \n",
       "converted      -0.021612\n",
       "rejected       -0.019668"
      ]
     },
     "execution_count": 109,
     "metadata": {},
     "output_type": "execute_result"
    }
   ],
   "source": [
    "month_breakdown[[\"lead_status\",\"growth_rate\"]].dropna().groupby(['lead_status']).mean()"
   ]
  },
  {
   "cell_type": "markdown",
   "metadata": {},
   "source": [
    "It's currently hard to tell with the information given if there is soom kind of trend and it doesn't seem to have any outlier or something that immediately caughts the attention. Also the average growth rate of the past 3 months (Febraury, March and April) for both groups oscillate around -2%, meaning we are currently experiencing a decline among those two groups. Maybe it would be better to disect the information based on the sector and size of the company to understand if there is an immediate action we can take to increase the number of leads being converted and identify what sector are frequently being rejected."
   ]
  },
  {
   "cell_type": "markdown",
   "metadata": {},
   "source": [
    "### Lead Status by Company Sector"
   ]
  },
  {
   "cell_type": "code",
   "execution_count": 115,
   "metadata": {},
   "outputs": [
    {
     "name": "stderr",
     "output_type": "stream",
     "text": [
      "/Library/Frameworks/Python.framework/Versions/3.7/lib/python3.7/site-packages/ipykernel_launcher.py:1: SettingWithCopyWarning: \n",
      "A value is trying to be set on a copy of a slice from a DataFrame.\n",
      "Try using .loc[row_indexer,col_indexer] = value instead\n",
      "\n",
      "See the caveats in the documentation: https://pandas.pydata.org/pandas-docs/stable/user_guide/indexing.html#returning-a-view-versus-a-copy\n",
      "  \"\"\"Entry point for launching an IPython kernel.\n"
     ]
    }
   ],
   "source": [
    "df_2020['company_sector'] = df_2020['company_industry'].str.split(pat='|', expand=True).iloc[:,0]"
   ]
  },
  {
   "cell_type": "code",
   "execution_count": 164,
   "metadata": {},
   "outputs": [],
   "source": [
    "df_2020_pie = df_2020[['company_sector','lead_status','id']].groupby(['company_sector','lead_status']).count()\n",
    "df_2020_pie = df_2020_pie.reset_index()\n",
    "df_2020_pie_conv = df_2020_pie[df_2020_pie['lead_status'] == 'converted'].set_index('company_sector')\n",
    "df_2020_pie_rej = df_2020_pie[df_2020_pie['lead_status'] == 'rejected'].set_index('company_sector')\n",
    "df_2020_pie_conv['converted'] = df_2020_pie_conv.id.values\n",
    "df_2020_pie_rej['rejected'] = df_2020_pie_rej.id.values\n",
    "df_2020_pie = pd.concat([df_2020_pie_conv, df_2020_pie_rej], axis=1, sort=False)\n",
    "df_2020_pie = df_2020_pie[['converted','rejected']].fillna(0)"
   ]
  },
  {
   "cell_type": "code",
   "execution_count": 165,
   "metadata": {},
   "outputs": [
    {
     "data": {
      "image/png": "[encoded data removed]",
      "text/plain": [
       "<Figure size 720x504 with 1 Axes>"
      ]
     },
     "metadata": {
      "needs_background": "light"
     },
     "output_type": "display_data"
    }
   ],
   "source": [
    "ax = df_2020_pie.plot.scatter(\n",
    "    x=\"converted\", \n",
    "    y=\"rejected\",\n",
    "    title=\"Number of New Leads Converted vs Rejected by Company Sector\",\n",
    "    alpha=0.4,\n",
    "    figsize=(10,7))\n",
    "for i, txt in enumerate(df_2020_pie.index):\n",
    "    ax.annotate(txt, (df_2020_pie.converted.iat[i],df_2020_pie.rejected.iat[i]))\n",
    "plt.show()"
   ]
  },
  {
   "cell_type": "code",
   "execution_count": 168,
   "metadata": {},
   "outputs": [
    {
     "data": {
      "text/html": [
       "<div>\n",
       "<style scoped>\n",
       "    .dataframe tbody tr th:only-of-type {\n",
       "        vertical-align: middle;\n",
       "    }\n",
       "\n",
       "    .dataframe tbody tr th {\n",
       "        vertical-align: top;\n",
       "    }\n",
       "\n",
       "    .dataframe thead th {\n",
       "        text-align: right;\n",
       "    }\n",
       "</style>\n",
       "<table border=\"1\" class=\"dataframe\">\n",
       "  <thead>\n",
       "    <tr style=\"text-align: right;\">\n",
       "      <th></th>\n",
       "      <th>converted</th>\n",
       "      <th>rejected</th>\n",
       "    </tr>\n",
       "  </thead>\n",
       "  <tbody>\n",
       "    <tr>\n",
       "      <th>Financial Services</th>\n",
       "      <td>5216.0</td>\n",
       "      <td>1606.0</td>\n",
       "    </tr>\n",
       "    <tr>\n",
       "      <th>Health Care</th>\n",
       "      <td>420.0</td>\n",
       "      <td>4567.0</td>\n",
       "    </tr>\n",
       "    <tr>\n",
       "      <th>Media</th>\n",
       "      <td>4014.0</td>\n",
       "      <td>0.0</td>\n",
       "    </tr>\n",
       "    <tr>\n",
       "      <th>Software</th>\n",
       "      <td>4040.0</td>\n",
       "      <td>186.0</td>\n",
       "    </tr>\n",
       "    <tr>\n",
       "      <th>Legal</th>\n",
       "      <td>0.0</td>\n",
       "      <td>3964.0</td>\n",
       "    </tr>\n",
       "  </tbody>\n",
       "</table>\n",
       "</div>"
      ],
      "text/plain": [
       "                    converted  rejected\n",
       "Financial Services     5216.0    1606.0\n",
       "Health Care             420.0    4567.0\n",
       "Media                  4014.0       0.0\n",
       "Software               4040.0     186.0\n",
       "Legal                     0.0    3964.0"
      ]
     },
     "execution_count": 168,
     "metadata": {},
     "output_type": "execute_result"
    }
   ],
   "source": [
    "anomalous_sectors = ['Health Care', 'Financial Services', 'Legal', 'Software', 'Media']\n",
    "\n",
    "df_2020_pie[df_2020_pie.index.isin(anomalous_sectors)]"
   ]
  },
  {
   "cell_type": "code",
   "execution_count": 218,
   "metadata": {},
   "outputs": [
    {
     "data": {
      "text/html": [
       "<div>\n",
       "<style scoped>\n",
       "    .dataframe tbody tr th:only-of-type {\n",
       "        vertical-align: middle;\n",
       "    }\n",
       "\n",
       "    .dataframe tbody tr th {\n",
       "        vertical-align: top;\n",
       "    }\n",
       "\n",
       "    .dataframe thead th {\n",
       "        text-align: right;\n",
       "    }\n",
       "</style>\n",
       "<table border=\"1\" class=\"dataframe\">\n",
       "  <thead>\n",
       "    <tr style=\"text-align: right;\">\n",
       "      <th></th>\n",
       "      <th>COUNT(*)</th>\n",
       "    </tr>\n",
       "  </thead>\n",
       "  <tbody>\n",
       "    <tr>\n",
       "      <th>0</th>\n",
       "      <td>25861</td>\n",
       "    </tr>\n",
       "  </tbody>\n",
       "</table>\n",
       "</div>"
      ],
      "text/plain": [
       "   COUNT(*)\n",
       "0     25861"
      ]
     },
     "execution_count": 218,
     "metadata": {},
     "output_type": "execute_result"
    }
   ],
   "source": [
    "pd.io.sql.read_sql('''\n",
    "    WITH DuplicateIds AS (\n",
    "        SELECT id, count(*) AS number_of_appearance\n",
    "        FROM LEADS\n",
    "        GROUP BY 1 \n",
    "        HAVING count(*) > 1\n",
    "    )\n",
    "    \n",
    "    SELECT COUNT(*)\n",
    "    FROM LEADS\n",
    "    LEFT JOIN DuplicateIds ON LEADS.id = DuplicateIds.id\n",
    "    WHERE creation_date >= date('2020-01-01')\n",
    "      AND DuplicateIds.id IS NULL\n",
    "      AND (company_industry LIKE 'Financial Services%'\n",
    "      OR company_industry LIKE 'Health Care%'\n",
    "      OR company_industry LIKE 'Media|%'\n",
    "      OR company_industry LIKE 'Media'\n",
    "      OR company_industry LIKE 'Software%'\n",
    "      OR company_industry LIKE 'Legal%')\n",
    "          ''', con = conn)"
   ]
  },
  {
   "cell_type": "code",
   "execution_count": 181,
   "metadata": {},
   "outputs": [
    {
     "data": {
      "text/plain": [
       "converted        0.529369\n",
       "rejected         0.399172\n",
       "new              0.036077\n",
       "qualification    0.035381\n",
       "Name: lead_status, dtype: float64"
      ]
     },
     "execution_count": 181,
     "metadata": {},
     "output_type": "execute_result"
    }
   ],
   "source": [
    "df_2020_anomaly = df_2020[df_2020.company_sector.isin(anomalous_sectors)]\n",
    "df_2020_non_anomaly = df_2020[~df_2020.company_sector.isin(anomalous_sectors)]\n",
    "df_2020_anomaly['lead_status'].value_counts() / len(df_2020_anomaly)"
   ]
  },
  {
   "cell_type": "code",
   "execution_count": 219,
   "metadata": {},
   "outputs": [
    {
     "data": {
      "text/plain": [
       "rejected         0.382679\n",
       "converted        0.306060\n",
       "qualification    0.157149\n",
       "new              0.154112\n",
       "Name: lead_status, dtype: float64"
      ]
     },
     "execution_count": 219,
     "metadata": {},
     "output_type": "execute_result"
    }
   ],
   "source": [
    "df_2020_non_anomaly['lead_status'].value_counts() / len(df_2020_non_anomaly)"
   ]
  },
  {
   "cell_type": "markdown",
   "metadata": {},
   "source": [
    "It's really palpable the anomalies seen through the scatterplot. We can pinpoint that leads belonging to the following sectors Financial Services, Health Care, Media, Legal and Software have experience either an astounding number of rejections or conversions. Meanwhile the other sectors seems to follow a trend as shown in the scatter plot below."
   ]
  },
  {
   "cell_type": "code",
   "execution_count": 220,
   "metadata": {},
   "outputs": [
    {
     "data": {
      "image/png": "[encoded data removed]",
      "text/plain": [
       "<Figure size 720x504 with 1 Axes>"
      ]
     },
     "metadata": {
      "needs_background": "light"
     },
     "output_type": "display_data"
    }
   ],
   "source": [
    "df_2020_pie = df_2020_non_anomaly[['company_sector','lead_status','id']].groupby(['company_sector','lead_status']).count()\n",
    "df_2020_pie = df_2020_pie.reset_index()\n",
    "df_2020_pie_conv = df_2020_pie[df_2020_pie['lead_status'] == 'converted'].set_index('company_sector')\n",
    "df_2020_pie_rej = df_2020_pie[df_2020_pie['lead_status'] == 'rejected'].set_index('company_sector')\n",
    "df_2020_pie_conv['converted'] = df_2020_pie_conv.id.values\n",
    "df_2020_pie_rej['rejected'] = df_2020_pie_rej.id.values\n",
    "df_2020_pie = pd.concat([df_2020_pie_conv, df_2020_pie_rej], axis=1, sort=False)\n",
    "df_2020_pie = df_2020_pie[['converted','rejected']].fillna(0)\n",
    "\n",
    "ax = df_2020_pie.plot.scatter(\n",
    "    x=\"converted\", \n",
    "    y=\"rejected\",\n",
    "    title=\"Number of New Leads Converted vs Rejected by Company Sector\",\n",
    "    alpha=0.4,\n",
    "    figsize=(10,7))\n",
    "for i, txt in enumerate(df_2020_pie.index):\n",
    "    ax.annotate(txt, (df_2020_pie.converted.iat[i],df_2020_pie.rejected.iat[i]))\n",
    "plt.show()"
   ]
  },
  {
   "cell_type": "markdown",
   "metadata": {},
   "source": [
    "### Deal Size for Converted Leads by Non Anomalous Sectors and it's top lead source"
   ]
  },
  {
   "cell_type": "code",
   "execution_count": 223,
   "metadata": {},
   "outputs": [],
   "source": [
    "import seaborn as sns\n",
    "import matplotlib.pyplot as plt\n",
    "\n",
    "conv_non_anomaly = df_2020_non_anomaly[df_2020_non_anomaly['lead_status'] == 'converted']"
   ]
  },
  {
   "cell_type": "code",
   "execution_count": 244,
   "metadata": {},
   "outputs": [
    {
     "data": {
      "image/png": "[encoded data removed]",
      "text/plain": [
       "<Figure size 1440x360 with 1 Axes>"
      ]
     },
     "metadata": {
      "needs_background": "light"
     },
     "output_type": "display_data"
    }
   ],
   "source": [
    "plt.figure(figsize=(20,5))\n",
    "sns.set_style(\"whitegrid\")\n",
    "ax = sns.boxplot(\n",
    "    x=conv_non_anomaly[\"company_sector\"], \n",
    "    y=conv_non_anomaly[\"deal_size\"]\n",
    ");\n",
    "plt.setp(ax.get_xticklabels(), rotation=90)\n",
    "plt.show()"
   ]
  },
  {
   "cell_type": "code",
   "execution_count": 245,
   "metadata": {},
   "outputs": [
    {
     "data": {
      "text/html": [
       "<div>\n",
       "<style scoped>\n",
       "    .dataframe tbody tr th:only-of-type {\n",
       "        vertical-align: middle;\n",
       "    }\n",
       "\n",
       "    .dataframe tbody tr th {\n",
       "        vertical-align: top;\n",
       "    }\n",
       "\n",
       "    .dataframe thead th {\n",
       "        text-align: right;\n",
       "    }\n",
       "</style>\n",
       "<table border=\"1\" class=\"dataframe\">\n",
       "  <thead>\n",
       "    <tr style=\"text-align: right;\">\n",
       "      <th></th>\n",
       "      <th>deal_size</th>\n",
       "    </tr>\n",
       "    <tr>\n",
       "      <th>company_sector</th>\n",
       "      <th></th>\n",
       "    </tr>\n",
       "  </thead>\n",
       "  <tbody>\n",
       "    <tr>\n",
       "      <th>Apps</th>\n",
       "      <td>0.141565</td>\n",
       "    </tr>\n",
       "    <tr>\n",
       "      <th>Commerce and Shopping</th>\n",
       "      <td>0.112172</td>\n",
       "    </tr>\n",
       "    <tr>\n",
       "      <th>Artificial Intelligence</th>\n",
       "      <td>0.094883</td>\n",
       "    </tr>\n",
       "    <tr>\n",
       "      <th>Data and Analytics</th>\n",
       "      <td>0.089164</td>\n",
       "    </tr>\n",
       "    <tr>\n",
       "      <th>Biotechnology</th>\n",
       "      <td>0.084439</td>\n",
       "    </tr>\n",
       "  </tbody>\n",
       "</table>\n",
       "</div>"
      ],
      "text/plain": [
       "                         deal_size\n",
       "company_sector                    \n",
       "Apps                      0.141565\n",
       "Commerce and Shopping     0.112172\n",
       "Artificial Intelligence   0.094883\n",
       "Data and Analytics        0.089164\n",
       "Biotechnology             0.084439"
      ]
     },
     "execution_count": 245,
     "metadata": {},
     "output_type": "execute_result"
    }
   ],
   "source": [
    "grouped = conv_non_anomaly[['company_sector', 'deal_size']].groupby('company_sector').sum()/sum(conv_non_anomaly.deal_size.values)\n",
    "grouped.sort_values('deal_size', ascending=False).head()"
   ]
  },
  {
   "cell_type": "markdown",
   "metadata": {},
   "source": [
    "As we can see above we know that the companies that generate most of our converted deals belong to the followin sectors: Apps, Commerce and Shopping, Artificial Intelligence, Data and Analytics and Biotechnology. However, when looking at the box plot, we can see that there might be potential in Media and Entertainment since 75% of their leads have deal sizes between 2,300 and 4,600 approximately, which its distribution ranges between higher numbers when compare to the other sectors. Now let's look what would be the best way to target those sectors based on the source they previously where created by."
   ]
  },
  {
   "cell_type": "markdown",
   "metadata": {},
   "source": [
    "### Consumer Website vs Paid Ads Source"
   ]
  },
  {
   "cell_type": "code",
   "execution_count": 279,
   "metadata": {},
   "outputs": [],
   "source": [
    "potential_sectors = ['Apps', 'Commerce and Shopping', \n",
    "                     'Artificial Intelligence', 'Data and Analytics',\n",
    "                     'Biotechnology', 'Media and Entertainment']\n",
    "\n",
    "source_nona = df_2020_non_anomaly[(df_2020_non_anomaly.company_sector.isin(potential_sectors)) &\n",
    "                                  (df_2020_non_anomaly.lead_status.isin(['converted', 'rejected']))]"
   ]
  },
  {
   "cell_type": "code",
   "execution_count": 293,
   "metadata": {},
   "outputs": [],
   "source": [
    "grouped = source_nona[['lead_source','lead_status','company_sector','id']].groupby(['lead_source','lead_status','company_sector']).count()\n",
    "grouped = grouped.reset_index()"
   ]
  },
  {
   "cell_type": "code",
   "execution_count": 298,
   "metadata": {},
   "outputs": [
    {
     "data": {
      "text/plain": [
       "<matplotlib.axes._subplots.AxesSubplot at 0x7fa227fbe668>"
      ]
     },
     "execution_count": 298,
     "metadata": {},
     "output_type": "execute_result"
    },
    {
     "data": {
      "image/png": "[encoded data removed]",
      "text/plain": [
       "<Figure size 720x504 with 1 Axes>"
      ]
     },
     "metadata": {},
     "output_type": "display_data"
    }
   ],
   "source": [
    "grouped[grouped['lead_source'] == 'consumer_website'].groupby(['company_sector', 'lead_status']).sum().unstack().plot(\n",
    "    y='id',\n",
    "    title='Consumer Website Source: # of Leads Converted VS Rejected by Sector',\n",
    "    kind='barh', \n",
    "    stacked=True,\n",
    "    figsize=(10,7))"
   ]
  },
  {
   "cell_type": "code",
   "execution_count": 296,
   "metadata": {},
   "outputs": [
    {
     "data": {
      "text/html": [
       "<div>\n",
       "<style scoped>\n",
       "    .dataframe tbody tr th:only-of-type {\n",
       "        vertical-align: middle;\n",
       "    }\n",
       "\n",
       "    .dataframe tbody tr th {\n",
       "        vertical-align: top;\n",
       "    }\n",
       "\n",
       "    .dataframe thead th {\n",
       "        text-align: right;\n",
       "    }\n",
       "</style>\n",
       "<table border=\"1\" class=\"dataframe\">\n",
       "  <thead>\n",
       "    <tr style=\"text-align: right;\">\n",
       "      <th></th>\n",
       "      <th>id</th>\n",
       "    </tr>\n",
       "    <tr>\n",
       "      <th>lead_status</th>\n",
       "      <th></th>\n",
       "    </tr>\n",
       "  </thead>\n",
       "  <tbody>\n",
       "    <tr>\n",
       "      <th>converted</th>\n",
       "      <td>0.484917</td>\n",
       "    </tr>\n",
       "    <tr>\n",
       "      <th>rejected</th>\n",
       "      <td>0.515083</td>\n",
       "    </tr>\n",
       "  </tbody>\n",
       "</table>\n",
       "</div>"
      ],
      "text/plain": [
       "                   id\n",
       "lead_status          \n",
       "converted    0.484917\n",
       "rejected     0.515083"
      ]
     },
     "execution_count": 296,
     "metadata": {},
     "output_type": "execute_result"
    }
   ],
   "source": [
    "grouped[grouped['lead_source'] == 'consumer_website'][['id', 'lead_status']].groupby(['lead_status']).sum() /sum(grouped[grouped['lead_source'] == 'consumer_website'].id.values)"
   ]
  },
  {
   "cell_type": "code",
   "execution_count": 297,
   "metadata": {},
   "outputs": [
    {
     "data": {
      "text/html": [
       "<div>\n",
       "<style scoped>\n",
       "    .dataframe tbody tr th:only-of-type {\n",
       "        vertical-align: middle;\n",
       "    }\n",
       "\n",
       "    .dataframe tbody tr th {\n",
       "        vertical-align: top;\n",
       "    }\n",
       "\n",
       "    .dataframe thead th {\n",
       "        text-align: right;\n",
       "    }\n",
       "</style>\n",
       "<table border=\"1\" class=\"dataframe\">\n",
       "  <thead>\n",
       "    <tr style=\"text-align: right;\">\n",
       "      <th></th>\n",
       "      <th>id</th>\n",
       "    </tr>\n",
       "    <tr>\n",
       "      <th>lead_status</th>\n",
       "      <th></th>\n",
       "    </tr>\n",
       "  </thead>\n",
       "  <tbody>\n",
       "    <tr>\n",
       "      <th>converted</th>\n",
       "      <td>0.414165</td>\n",
       "    </tr>\n",
       "    <tr>\n",
       "      <th>rejected</th>\n",
       "      <td>0.585835</td>\n",
       "    </tr>\n",
       "  </tbody>\n",
       "</table>\n",
       "</div>"
      ],
      "text/plain": [
       "                   id\n",
       "lead_status          \n",
       "converted    0.414165\n",
       "rejected     0.585835"
      ]
     },
     "execution_count": 297,
     "metadata": {},
     "output_type": "execute_result"
    }
   ],
   "source": [
    "grouped[grouped['lead_source'] == 'paid_ads'][['id', 'lead_status']].groupby(['lead_status']).sum() /sum(grouped[grouped['lead_source'] == 'paid_ads'].id.values)"
   ]
  },
  {
   "cell_type": "code",
   "execution_count": 299,
   "metadata": {
    "scrolled": false
   },
   "outputs": [
    {
     "data": {
      "text/plain": [
       "<matplotlib.axes._subplots.AxesSubplot at 0x7fa22836a710>"
      ]
     },
     "execution_count": 299,
     "metadata": {},
     "output_type": "execute_result"
    },
    {
     "data": {
      "image/png": "[encoded data removed]",
      "text/plain": [
       "<Figure size 720x504 with 1 Axes>"
      ]
     },
     "metadata": {},
     "output_type": "display_data"
    }
   ],
   "source": [
    "grouped[grouped['lead_source'] == 'paid_ads'].groupby(['company_sector', 'lead_status']).sum().unstack().plot(\n",
    "    y='id',\n",
    "    title='Paid Ads Source: # of Leads Converted VS Rejected by Sector',\n",
    "    kind='barh', \n",
    "    stacked=True,\n",
    "    figsize=(10,7))"
   ]
  },
  {
   "cell_type": "markdown",
   "metadata": {},
   "source": [
    "### MoM Trend by Lead Status (Non Anomalous Sector)"
   ]
  },
  {
   "cell_type": "code",
   "execution_count": 274,
   "metadata": {},
   "outputs": [
    {
     "data": {
      "text/plain": [
       "<matplotlib.axes._subplots.AxesSubplot at 0x7fa220bab400>"
      ]
     },
     "execution_count": 274,
     "metadata": {},
     "output_type": "execute_result"
    },
    {
     "data": {
      "image/png": "[encoded data removed]",
      "text/plain": [
       "<Figure size 720x504 with 1 Axes>"
      ]
     },
     "metadata": {},
     "output_type": "display_data"
    }
   ],
   "source": [
    "month_breakdown = pd.io.sql.read_sql('''\n",
    "    WITH DuplicateIds AS (\n",
    "        SELECT id, count(*) AS number_of_appearance\n",
    "        FROM LEADS\n",
    "        GROUP BY 1 \n",
    "        HAVING count(*) > 1\n",
    "    )\n",
    "\n",
    "    SELECT strftime('%m',creation_date) AS month_created,\n",
    "           lead_status,\n",
    "           count(distinct LEADS.id) AS number_of_new_leads\n",
    "    FROM LEADS\n",
    "    LEFT JOIN DuplicateIds ON LEADS.id = DuplicateIds.id\n",
    "    WHERE creation_date >= date('2020-01-01')\n",
    "      AND DuplicateIds.id IS NULL\n",
    "      AND lead_status IN ('converted', 'rejected')\n",
    "      AND company_industry NOT LIKE 'Financial Services%'\n",
    "      AND company_industry NOT LIKE 'Health Care%'\n",
    "      AND company_industry NOT LIKE 'Media|%'\n",
    "      AND company_industry NOT LIKE 'Media'\n",
    "      AND company_industry NOT LIKE 'Software%'\n",
    "      AND company_industry NOT LIKE 'Legal%'\n",
    "    GROUP BY 1,2\n",
    "          ''', con = conn)\n",
    "### This part is the equivalent of the Lag function in sql, since I'm using sqlite3 in python\n",
    "### i don't believe it is still implemented yet.\n",
    "month_breakdown['previous_month'] = month_breakdown.groupby(['lead_status'])['number_of_new_leads'].shift(periods=1)\n",
    "month_breakdown['growth_rate'] = (month_breakdown['number_of_new_leads'] - month_breakdown['previous_month']) / month_breakdown['previous_month']\n",
    "\n",
    "month_breakdown.groupby(['month_created', 'lead_status']).sum().unstack().plot(\n",
    "    y='number_of_new_leads',\n",
    "    title='Number of New Leads on a Montly Basis by Lead Status from Non Anomalous Sector',\n",
    "    kind='bar', \n",
    "    stacked=False,\n",
    "    figsize=(10,7))"
   ]
  },
  {
   "cell_type": "code",
   "execution_count": 275,
   "metadata": {},
   "outputs": [
    {
     "data": {
      "text/html": [
       "<div>\n",
       "<style scoped>\n",
       "    .dataframe tbody tr th:only-of-type {\n",
       "        vertical-align: middle;\n",
       "    }\n",
       "\n",
       "    .dataframe tbody tr th {\n",
       "        vertical-align: top;\n",
       "    }\n",
       "\n",
       "    .dataframe thead th {\n",
       "        text-align: right;\n",
       "    }\n",
       "</style>\n",
       "<table border=\"1\" class=\"dataframe\">\n",
       "  <thead>\n",
       "    <tr style=\"text-align: right;\">\n",
       "      <th></th>\n",
       "      <th>growth_rate</th>\n",
       "    </tr>\n",
       "    <tr>\n",
       "      <th>lead_status</th>\n",
       "      <th></th>\n",
       "    </tr>\n",
       "  </thead>\n",
       "  <tbody>\n",
       "    <tr>\n",
       "      <th>converted</th>\n",
       "      <td>-0.007863</td>\n",
       "    </tr>\n",
       "    <tr>\n",
       "      <th>rejected</th>\n",
       "      <td>-0.015624</td>\n",
       "    </tr>\n",
       "  </tbody>\n",
       "</table>\n",
       "</div>"
      ],
      "text/plain": [
       "             growth_rate\n",
       "lead_status             \n",
       "converted      -0.007863\n",
       "rejected       -0.015624"
      ]
     },
     "execution_count": 275,
     "metadata": {},
     "output_type": "execute_result"
    }
   ],
   "source": [
    "month_breakdown[[\"lead_status\",\"growth_rate\"]].dropna().groupby(['lead_status']).mean()"
   ]
  },
  {
   "cell_type": "markdown",
   "metadata": {},
   "source": [
    "### MoM Trend by Lead Status (Anomalous Sector)"
   ]
  },
  {
   "cell_type": "code",
   "execution_count": 278,
   "metadata": {},
   "outputs": [
    {
     "data": {
      "text/plain": [
       "<matplotlib.axes._subplots.AxesSubplot at 0x7fa225cec7b8>"
      ]
     },
     "execution_count": 278,
     "metadata": {},
     "output_type": "execute_result"
    },
    {
     "data": {
      "image/png": "[encoded data removed]",
      "text/plain": [
       "<Figure size 720x504 with 1 Axes>"
      ]
     },
     "metadata": {},
     "output_type": "display_data"
    }
   ],
   "source": [
    "month_breakdown = pd.io.sql.read_sql('''\n",
    "    WITH DuplicateIds AS (\n",
    "        SELECT id, count(*) AS number_of_appearance\n",
    "        FROM LEADS\n",
    "        GROUP BY 1 \n",
    "        HAVING count(*) > 1\n",
    "    )\n",
    "\n",
    "    SELECT strftime('%m',creation_date) AS month_created,\n",
    "           lead_status,\n",
    "           count(distinct LEADS.id) AS number_of_new_leads\n",
    "    FROM LEADS\n",
    "    LEFT JOIN DuplicateIds ON LEADS.id = DuplicateIds.id\n",
    "    WHERE creation_date >= date('2020-01-01')\n",
    "      AND DuplicateIds.id IS NULL\n",
    "      AND lead_status IN ('converted', 'rejected')\n",
    "      AND (company_industry LIKE 'Financial Services%'\n",
    "      OR company_industry LIKE 'Health Care%'\n",
    "      OR company_industry LIKE 'Media|%'\n",
    "      OR company_industry LIKE 'Media'\n",
    "      OR company_industry LIKE 'Software%'\n",
    "      OR company_industry LIKE 'Legal%')\n",
    "    GROUP BY 1,2\n",
    "          ''', con = conn)\n",
    "### This part is the equivalent of the Lag function in sql, since I'm using sqlite3 in python\n",
    "### i don't believe it is still implemented yet.\n",
    "month_breakdown['previous_month'] = month_breakdown.groupby(['lead_status'])['number_of_new_leads'].shift(periods=1)\n",
    "month_breakdown['growth_rate'] = (month_breakdown['number_of_new_leads'] - month_breakdown['previous_month']) / month_breakdown['previous_month']\n",
    "\n",
    "month_breakdown.groupby(['month_created', 'lead_status']).sum().unstack().plot(\n",
    "    y='number_of_new_leads',\n",
    "    title='Number of New Leads on a Montly Basis by Lead Status from Anomalous Sector',\n",
    "    kind='bar', \n",
    "    stacked=False,\n",
    "    figsize=(10,7))"
   ]
  },
  {
   "cell_type": "code",
   "execution_count": 277,
   "metadata": {},
   "outputs": [
    {
     "data": {
      "text/html": [
       "<div>\n",
       "<style scoped>\n",
       "    .dataframe tbody tr th:only-of-type {\n",
       "        vertical-align: middle;\n",
       "    }\n",
       "\n",
       "    .dataframe tbody tr th {\n",
       "        vertical-align: top;\n",
       "    }\n",
       "\n",
       "    .dataframe thead th {\n",
       "        text-align: right;\n",
       "    }\n",
       "</style>\n",
       "<table border=\"1\" class=\"dataframe\">\n",
       "  <thead>\n",
       "    <tr style=\"text-align: right;\">\n",
       "      <th></th>\n",
       "      <th>growth_rate</th>\n",
       "    </tr>\n",
       "    <tr>\n",
       "      <th>lead_status</th>\n",
       "      <th></th>\n",
       "    </tr>\n",
       "  </thead>\n",
       "  <tbody>\n",
       "    <tr>\n",
       "      <th>converted</th>\n",
       "      <td>-0.027089</td>\n",
       "    </tr>\n",
       "    <tr>\n",
       "      <th>rejected</th>\n",
       "      <td>-0.022498</td>\n",
       "    </tr>\n",
       "  </tbody>\n",
       "</table>\n",
       "</div>"
      ],
      "text/plain": [
       "             growth_rate\n",
       "lead_status             \n",
       "converted      -0.027089\n",
       "rejected       -0.022498"
      ]
     },
     "execution_count": 277,
     "metadata": {},
     "output_type": "execute_result"
    }
   ],
   "source": [
    "month_breakdown[[\"lead_status\",\"growth_rate\"]].dropna().groupby(['lead_status']).mean()"
   ]
  },
  {
   "cell_type": "code",
   "execution_count": null,
   "metadata": {},
   "outputs": [],
   "source": []
  }
 ],
 "metadata": {
  "kernelspec": {
   "display_name": "Python 3",
   "language": "python",
   "name": "python3"
  },
  "language_info": {
   "codemirror_mode": {
    "name": "ipython",
    "version": 3
   },
   "file_extension": ".py",
   "mimetype": "text/x-python",
   "name": "python",
   "nbconvert_exporter": "python",
   "pygments_lexer": "ipython3",
   "version": "3.7.2"
  }
 },
 "nbformat": 4,
 "nbformat_minor": 4
}
